{
  "nbformat": 4,
  "nbformat_minor": 0,
  "metadata": {
    "colab": {
      "private_outputs": true,
      "provenance": []
    },
    "kernelspec": {
      "name": "python3",
      "display_name": "Python 3"
    },
    "language_info": {
      "name": "python"
    }
  },
  "cells": [
    {
      "cell_type": "markdown",
      "source": [
        "# **Project Name**    -  **Hotel Booking Analysis**\n",
        "\n"
      ],
      "metadata": {
        "id": "vncDsAP0Gaoa"
      }
    },
    {
      "cell_type": "markdown",
      "source": [
        "##### **Project Type**    - EDA\n",
        "##### **Contribution**    - Individual"
      ],
      "metadata": {
        "id": "beRrZCGUAJYm"
      }
    },
    {
      "cell_type": "markdown",
      "source": [
        "# **Project Summary -**"
      ],
      "metadata": {
        "id": "FJNUwmbgGyua"
      }
    },
    {
      "cell_type": "markdown",
      "source": [
        "This project aims to perform an exploratory data analysis (EDA) on a hotel booking dataset to gain insights and understand patterns in hotel bookings. The dataset consists of booking information for a city hotel and a resort hotel, including details such as booking dates, length of stay, cancellation status, customer demographics, and other relevant factors. All personally identifying information has been removed from the data to ensure privacy.\n",
        "\n",
        "The primary objective of this project is to explore the dataset using EDA techniques and extract meaningful insights that can assist hotel management in making informed decisions, optimizing booking strategies, and improving customer satisfaction."
      ],
      "metadata": {
        "id": "F6v_1wHtG2nS"
      }
    },
    {
      "cell_type": "markdown",
      "source": [
        "# **GitHub Link -**"
      ],
      "metadata": {
        "id": "w6K7xa23Elo4"
      }
    },
    {
      "cell_type": "markdown",
      "source": [
        "https://github.com/arshadmujawar2408/Hotel-Booking-Analysis-EDA"
      ],
      "metadata": {
        "id": "h1o69JH3Eqqn"
      }
    },
    {
      "cell_type": "markdown",
      "source": [
        "# **Problem Statement**\n"
      ],
      "metadata": {
        "id": "yQaldy8SH6Dl"
      }
    },
    {
      "cell_type": "markdown",
      "source": [
        "Have you ever wondered when the best time of year to book a hotel room is? Or the optimal length of stay in order to get the best daily rate? What if you wanted to predict whether or not a hotel was likely to receive a disproportionately high number of special requests? This hotel booking dataset can help you explore those questions! This data set contains booking information for a city hotel and a resort hotel, and includes information such as when the booking was made, length of stay, the number of adults, children, and/or babies, and the number of available parking spaces, among other things. All personally identifying information has been removed from the data. Explore and analyse the data to discover important factors that govern the bookings.\n",
        "\n"
      ],
      "metadata": {
        "id": "DpeJGUA3kjGy"
      }
    },
    {
      "cell_type": "markdown",
      "source": [
        "#### **Define Your Business Objective?**"
      ],
      "metadata": {
        "id": "PH-0ReGfmX4f"
      }
    },
    {
      "cell_type": "markdown",
      "source": [
        "Understand booking patterns, customer preferences, and market trends to make informed decisions that maximize revenue, optimize pricing strategies, improve customer satisfaction, and enhance overall hotel performance."
      ],
      "metadata": {
        "id": "PhDvGCAqmjP1"
      }
    },
    {
      "cell_type": "markdown",
      "source": [
        "# **General Guidelines** : -"
      ],
      "metadata": {
        "id": "mDgbUHAGgjLW"
      }
    },
    {
      "cell_type": "markdown",
      "source": [
        "1.   Well-structured, formatted, and commented code is required.\n",
        "2.   Exception Handling, Production Grade Code & Deployment Ready Code will be a plus. Those students will be awarded some additional credits.\n",
        "\n",
        "     The additional credits will have advantages over other students during Star Student selection.\n",
        "\n",
        "             [ Note: - Deployment Ready Code is defined as, the whole .ipynb notebook should be executable in one go\n",
        "                       without a single error logged. ]\n",
        "\n",
        "3.   Each and every logic should have proper comments.\n",
        "4. You may add as many number of charts you want. Make Sure for each and every chart the following format should be answered.\n",
        "\n",
        "\n",
        "```\n",
        "# Chart visualization code\n",
        "```\n",
        "\n",
        "\n",
        "*   Why did you pick the specific chart?\n",
        "*   What is/are the insight(s) found from the chart?\n",
        "* Will the gained insights help creating a positive business impact?\n",
        "Are there any insights that lead to negative growth? Justify with specific reason.\n",
        "\n",
        "5. You have to create at least 20 logical & meaningful charts having important insights.\n",
        "\n",
        "\n",
        "[ Hints : - Do the Vizualization in  a structured way while following \"UBM\" Rule.\n",
        "\n",
        "U - Univariate Analysis,\n",
        "\n",
        "B - Bivariate Analysis (Numerical - Categorical, Numerical - Numerical, Categorical - Categorical)\n",
        "\n",
        "M - Multivariate Analysis\n",
        " ]\n",
        "\n",
        "\n",
        "\n"
      ],
      "metadata": {
        "id": "ZrxVaUj-hHfC"
      }
    },
    {
      "cell_type": "markdown",
      "source": [
        "# ***Let's Begin !***"
      ],
      "metadata": {
        "id": "O_i_v8NEhb9l"
      }
    },
    {
      "cell_type": "markdown",
      "source": [
        "## ***1. Know Your Data***"
      ],
      "metadata": {
        "id": "HhfV-JJviCcP"
      }
    },
    {
      "cell_type": "markdown",
      "source": [
        "### Import Libraries"
      ],
      "metadata": {
        "id": "Y3lxredqlCYt"
      }
    },
    {
      "cell_type": "code",
      "source": [
        "# Import Libraries\n",
        "import numpy as np\n",
        "import pandas as pd\n",
        "import seaborn as sns\n",
        "import matplotlib.pyplot as plt\n",
        "%matplotlib inline\n",
        "\n",
        "import warnings\n",
        "warnings.filterwarnings('ignore')"
      ],
      "metadata": {
        "id": "M8Vqi-pPk-HR"
      },
      "execution_count": null,
      "outputs": []
    },
    {
      "cell_type": "markdown",
      "source": [
        "### Dataset Loading"
      ],
      "metadata": {
        "id": "3RnN4peoiCZX"
      }
    },
    {
      "cell_type": "code",
      "source": [
        "# Load Dataset\n",
        "dataset=pd.read_csv(\"https://raw.githubusercontent.com/arshadmujawar2408/Hotel-Booking-Analysis-EDA/main/Hotel%20Bookings.csv\")"
      ],
      "metadata": {
        "id": "4CkvbW_SlZ_R"
      },
      "execution_count": null,
      "outputs": []
    },
    {
      "cell_type": "markdown",
      "source": [
        "### Dataset First View"
      ],
      "metadata": {
        "id": "x71ZqKXriCWQ"
      }
    },
    {
      "cell_type": "code",
      "source": [
        "# Dataset First Look\n",
        "dataset.head()"
      ],
      "metadata": {
        "id": "LWNFOSvLl09H"
      },
      "execution_count": null,
      "outputs": []
    },
    {
      "cell_type": "markdown",
      "source": [
        "### Dataset Rows & Columns count"
      ],
      "metadata": {
        "id": "7hBIi_osiCS2"
      }
    },
    {
      "cell_type": "code",
      "source": [
        "# Dataset Rows & Columns count\n",
        "dataset.shape"
      ],
      "metadata": {
        "id": "Kllu7SJgmLij"
      },
      "execution_count": null,
      "outputs": []
    },
    {
      "cell_type": "markdown",
      "source": [
        "### Dataset Information"
      ],
      "metadata": {
        "id": "JlHwYmJAmNHm"
      }
    },
    {
      "cell_type": "code",
      "source": [
        "# Dataset Info\n",
        "dataset.info()"
      ],
      "metadata": {
        "id": "e9hRXRi6meOf"
      },
      "execution_count": null,
      "outputs": []
    },
    {
      "cell_type": "markdown",
      "source": [
        "#### Duplicate Values"
      ],
      "metadata": {
        "id": "35m5QtbWiB9F"
      }
    },
    {
      "cell_type": "code",
      "source": [
        "# Dataset Duplicate Value Count\n",
        "len(dataset[dataset.duplicated()])"
      ],
      "metadata": {
        "id": "1sLdpKYkmox0"
      },
      "execution_count": null,
      "outputs": []
    },
    {
      "cell_type": "markdown",
      "source": [
        "#### Missing Values/Null Values"
      ],
      "metadata": {
        "id": "PoPl-ycgm1ru"
      }
    },
    {
      "cell_type": "code",
      "source": [
        "# Missing Values/Null Values Count\n",
        "print(dataset.isnull().sum())"
      ],
      "metadata": {
        "id": "GgHWkxvamxVg"
      },
      "execution_count": null,
      "outputs": []
    },
    {
      "cell_type": "code",
      "source": [
        "# Visualizing the missing values\n",
        "# Checking Null Value by plotting Heatmap\n",
        "sns.heatmap(dataset.isnull(), cbar=False)"
      ],
      "metadata": {
        "id": "3q5wnI3om9sJ"
      },
      "execution_count": null,
      "outputs": []
    },
    {
      "cell_type": "markdown",
      "source": [
        "### What did you know about your dataset?"
      ],
      "metadata": {
        "id": "H0kj-8xxnORC"
      }
    },
    {
      "cell_type": "markdown",
      "source": [
        "This data set contains booking information for a city hotel and a resort hotel and includes information such as when the booking was made, length of stay, the number of adults, children, and/or babies, and the number of available parking spaces, among other things.\n",
        "\n",
        "The above dataset has 119390 rows and 32 columns. There are 129421 missing values and 31994 duplicate values in the dataset.\n",
        "\n",
        "The dataset have 32 variables (Continuous and Categorical) with one identified dependent variable (categorical), which is 'is_cancelled"
      ],
      "metadata": {
        "id": "gfoNAAC-nUe_"
      }
    },
    {
      "cell_type": "markdown",
      "source": [
        "## ***2. Understanding Your Variables***"
      ],
      "metadata": {
        "id": "nA9Y7ga8ng1Z"
      }
    },
    {
      "cell_type": "code",
      "source": [
        "# Dataset Columns\n",
        "dataset.columns"
      ],
      "metadata": {
        "id": "j7xfkqrt5Ag5"
      },
      "execution_count": null,
      "outputs": []
    },
    {
      "cell_type": "code",
      "source": [
        "# Dataset Describe\n",
        "dataset.describe(include='all')"
      ],
      "metadata": {
        "id": "DnOaZdaE5Q5t"
      },
      "execution_count": null,
      "outputs": []
    },
    {
      "cell_type": "markdown",
      "source": [
        "### Variables Description"
      ],
      "metadata": {
        "id": "PBTbrJXOngz2"
      }
    },
    {
      "cell_type": "markdown",
      "source": [
        "* **hotel                :** Hotel (H1 = Resort Hotel or H2 = City Hotel)\n",
        "\n",
        "* **is_canceled       :** Value indicating if the booking was canceled (1) or not (0)\n",
        "\n",
        "* **lead_time            :** Number of days that elapsed between the entering date of the booking into the PMS and the arrival date\n",
        "\n",
        "* **arrival_date_year            :** Year of arrival date\n",
        "\n",
        "* **arrival_date_month          :** Month of arrival date\n",
        "\n",
        "* **arrival_date_week_number       :** Week number of year for arrival date\n",
        "\n",
        "* **arrival_date_day           :** Day of arrival date\n",
        "\n",
        "* **stays_in_weekend_nights**         :Number of weekend nights (Saturday or Sunday) the guest stayed or booked to stay at the hotel\n",
        "\n",
        "* **stays_in_week_nights**         :Number of week nights (Monday to Friday) the guest stayed or booked to stay at the hotel\n",
        "\n",
        "* **adults**          :Number of adults\n",
        "\n",
        "* **childern**         :Number of childre\n",
        "\n",
        "* **babies**         :Number of babies\n",
        "\n",
        "* **meal**          :Kind of meal opted for\n",
        "\n",
        "* **country**         :Country code\n",
        "\n",
        "* **market_segment**         :Which segment the customer belongs to\n",
        "* **Distribution _channel** :How the customer accessed the stay-\n",
        "corporate booking/Direct/TA.TO\n",
        "\n",
        "* **is_repeated_guest**:Guest coming for frst time or not\n",
        "\n",
        "* **previous_cancellation**:Was there a cancellation before\n",
        "\n",
        "* **previous_bookings**:Count of previous bookings\n",
        "\n",
        "* **reserved_room_type**:Type of room reserved\n",
        "\n",
        "* **assigned_room_type**:Type of room assigned\n",
        "\n",
        "* **booking_changes**:Count of changes made to booking\n",
        "\n",
        "* **deposit_type**:Deposit type\n",
        "\n",
        "* **agent**:Booked through agent\n",
        "\n",
        "* **days_in_waiting_list**:Number of days in waiting lst\n",
        "\n",
        "* **customer_type**:Type of customer\n",
        "\n",
        "* **required_car_parking**:If car parking is required\n",
        "\n",
        "* **total_of _special_req**:Number of additional special\n",
        "requirements\n",
        "\n",
        "* **reservation_status**:Reservation of status\n",
        "\n",
        "* **reservation_status_date**:Date of the specific status\n",
        "\n",
        "\n"
      ],
      "metadata": {
        "id": "aJV4KIxSnxay"
      }
    },
    {
      "cell_type": "markdown",
      "source": [
        "### Check Unique Values for each variable."
      ],
      "metadata": {
        "id": "u3PMJOP6ngxN"
      }
    },
    {
      "cell_type": "code",
      "source": [
        "# Check Unique Values for each variable.\n",
        "for i in dataset.columns.tolist():\n",
        "  print(\"No. of unique values in \",i,\"is\",dataset[i].nunique(),\".\")"
      ],
      "metadata": {
        "id": "zms12Yq5n-jE"
      },
      "execution_count": null,
      "outputs": []
    },
    {
      "cell_type": "markdown",
      "source": [
        "## 3. ***Data Cleaning and Manupulating***"
      ],
      "metadata": {
        "id": "dauF4eBmngu3"
      }
    },
    {
      "cell_type": "markdown",
      "source": [
        "1. Removing duplicate rows if any."
      ],
      "metadata": {
        "id": "thHbIiGipvYo"
      }
    },
    {
      "cell_type": "code",
      "source": [
        "# Finding duplicate values in dataset\n",
        "dataset[dataset.duplicated()].shape"
      ],
      "metadata": {
        "id": "A7M4jyhuqSbF"
      },
      "execution_count": null,
      "outputs": []
    },
    {
      "cell_type": "code",
      "source": [
        "# Dropping duplicate values\n",
        "dataset.drop_duplicates(inplace = True)"
      ],
      "metadata": {
        "id": "9MbGpxy_qwtg"
      },
      "execution_count": null,
      "outputs": []
    },
    {
      "cell_type": "code",
      "source": [
        "dataset.shape"
      ],
      "metadata": {
        "id": "4b2jMilzq-G8"
      },
      "execution_count": null,
      "outputs": []
    },
    {
      "cell_type": "markdown",
      "source": [
        "2. Handling missing values."
      ],
      "metadata": {
        "id": "2q3Pms-GrNAh"
      }
    },
    {
      "cell_type": "code",
      "source": [
        "# Lets drop columns with high missing values\n",
        "# The column \"agent\" has 16,340 missing values/NaN values.\n",
        "# The column \"company\" has 112,593 missing values/NaN values.\n",
        "dataset=dataset.drop(['agent','company'],axis=1)"
      ],
      "metadata": {
        "id": "wk-9a2fpoLcV"
      },
      "execution_count": null,
      "outputs": []
    },
    {
      "cell_type": "code",
      "source": [
        "# Remove null values from dataset\n",
        "dataset=dataset.dropna(axis=0)"
      ],
      "metadata": {
        "id": "glD6vPWus07f"
      },
      "execution_count": null,
      "outputs": []
    },
    {
      "cell_type": "code",
      "source": [
        "#  is used to count the number of missing values (null values) in each column of the dataset.\n",
        "dataset.isnull().sum()"
      ],
      "metadata": {
        "id": "YXb7X9y1qCuc"
      },
      "execution_count": null,
      "outputs": []
    },
    {
      "cell_type": "markdown",
      "source": [
        "3. Identify Continuous and Categorical Variables\n"
      ],
      "metadata": {
        "id": "SeP8dD7WtPy7"
      }
    },
    {
      "cell_type": "code",
      "source": [
        "# Identify Continuous and Categorical Variables\n",
        "def var(hotel):\n",
        "    unique_list = pd.DataFrame([[i,len(hotel[i].unique())] for i in hotel.columns])\n",
        "    unique_list.columns = ['name','uniques']\n",
        "\n",
        "    total_var = set(hotel.columns)\n",
        "    cat_var = set(unique_list.name[(unique_list.uniques<=12)      |\n",
        "                                   (unique_list.name=='country')  |\n",
        "                                   (unique_list.name=='agent')\n",
        "                                  ])\n",
        "    con_var = total_var - cat_var\n",
        "\n",
        "    return cat_var, con_var\n",
        "\n",
        "\n",
        "cat_var, con_var = var(dataset)\n",
        "\n",
        "print(\"Continuous Variables (\",len(con_var),\")\\n\",con_var,'\\n\\n'\n",
        "      \"Categorical Variables(\",len(cat_var),\")\\n\",cat_var)\n"
      ],
      "metadata": {
        "id": "fUWV3HB8tLqm"
      },
      "execution_count": null,
      "outputs": []
    },
    {
      "cell_type": "markdown",
      "source": [
        "4. Converting columns to appropriate naming conventions."
      ],
      "metadata": {
        "id": "ZsKLs0Lkrf6L"
      }
    },
    {
      "cell_type": "code",
      "source": [
        "dataset.columns = ['Hotel', 'Canceled', 'LeadTime', 'ArrivingYear', 'ArrivingMonth', 'ArrivingWeek','ArrivingDate', 'WeekendStay',\n",
        "              'WeekStay', 'Adults', 'Children', 'Babies', 'Meal','Country', 'Segment', 'DistChannel','RepeatGuest', 'PrevCancel',\n",
        "              'PrevBook', 'BookRoomType','AssignRoomType', 'ChangeBooking', 'DepositType', 'WaitingDays',\n",
        "              'CustomerType', 'ADR','ParkSpace', 'SpecialRequest','Reservation', 'ReservationDate']"
      ],
      "metadata": {
        "id": "E1ATT9iEqK5l"
      },
      "execution_count": null,
      "outputs": []
    },
    {
      "cell_type": "markdown",
      "source": [
        "### What all manipulations have you done and insights you found?"
      ],
      "metadata": {
        "id": "MSa1f5Uengrz"
      }
    },
    {
      "cell_type": "markdown",
      "source": [
        "Duplicate Rows: There are 31,994 duplicate rows in the dataset, and the dataset has a total of 32 columns. To ensure data integrity and avoid biased analysis, it is recommended to remove these duplicate records from the dataset.\n",
        "\n",
        "Missing Values: The column \"agent\" has 16,340 missing values, and the column \"company\" has 112,593 missing values. Considering the high number of missing values in these columns, it is advisable to remove them from the dataset to avoid potential bias in the analysis.\n",
        "\n",
        "Variable Types: The dataset consists of 12 continuous variables and 18 categorical variables. These variable types provide different types of information and can be treated differently during the analysis process.\n",
        "\n",
        "Column Name Renaming: To improve readability and enhance understanding, it is suggested to rename the columns with appropriate and descriptive names that accurately reflect the information they represent. This can make the dataset more user-friendly and facilitate easier interpretation of the results."
      ],
      "metadata": {
        "id": "LbyXE7I1olp8"
      }
    },
    {
      "cell_type": "markdown",
      "source": [
        "## ***4. Data Preparation***"
      ],
      "metadata": {
        "id": "9E7-CTIj-yq8"
      }
    },
    {
      "cell_type": "code",
      "source": [
        "#Lets combine children and babies together as kids\n",
        "dataset['Kids'] = dataset.Children + dataset.Babies\n",
        "\n",
        "#Combine total numbers by adding kids and adults\n",
        "dataset['total_members'] = dataset.Kids + dataset.Adults"
      ],
      "metadata": {
        "id": "VlWIOnwn-4bc"
      },
      "execution_count": null,
      "outputs": []
    },
    {
      "cell_type": "code",
      "source": [
        "#convert the datatypes to string\n",
        "dataset['ArrivingYear'] = dataset['ArrivingYear'].astype('str')\n",
        "dataset['ArrivingMonth'] = dataset['ArrivingMonth'].astype('str')\n",
        "dataset['ArrivingDate'] = dataset['ArrivingDate'].astype('str')\n",
        "\n",
        "dataset['Canceled'] = dataset['Canceled'].astype('str')\n",
        "dataset['RepeatGuest'] = dataset['RepeatGuest'].astype('str')"
      ],
      "metadata": {
        "id": "0o8X2dTW_b8D"
      },
      "execution_count": null,
      "outputs": []
    },
    {
      "cell_type": "code",
      "source": [
        "# Lets convert arrival date to datetime\n",
        "dataset['Arrival Date'] = dataset['ArrivingDate'] + '-' + dataset['ArrivingMonth'] + '-' + dataset['ArrivingYear']\n",
        "dataset['Arrival Date'] = pd.to_datetime(dataset['Arrival Date'], errors='coerce')"
      ],
      "metadata": {
        "id": "NJE-CXgF_iMz"
      },
      "execution_count": null,
      "outputs": []
    },
    {
      "cell_type": "code",
      "source": [
        "# creates a new DataFrame called confirmed_bookings by filtering the original dataset DataFrame\n",
        "confirmed_bookings = dataset[dataset.Canceled=='0']"
      ],
      "metadata": {
        "id": "qzdpn7GQ_lgH"
      },
      "execution_count": null,
      "outputs": []
    },
    {
      "cell_type": "code",
      "source": [
        "# adds a new column called 'ArrivingMonth' to the confirmed_bookings DataFrame. It extracts the month component from the 'Arrival Date' column in the dataset DataFrame using the dt.month accessor from the datetime module.\n",
        "import datetime as dt\n",
        "confirmed_bookings['ArrivingMonth'] = dataset['Arrival Date'].dt.month\n",
        "final=confirmed_bookings['ArrivingMonth'].value_counts().sort_index()\n",
        "final"
      ],
      "metadata": {
        "id": "iew8YGcc_vYD"
      },
      "execution_count": null,
      "outputs": []
    },
    {
      "cell_type": "markdown",
      "source": [
        "## ***5. Expolatory Data Analysis***"
      ],
      "metadata": {
        "id": "B5ZtXaus9ziQ"
      }
    },
    {
      "cell_type": "code",
      "source": [
        "print('Total Bookings canceled')\n",
        "print('-'*50)\n",
        "print(dataset.Canceled.value_counts())\n",
        "print('-'*50)\n",
        "print('*'*75)\n",
        "print('Cancelation percentage in both hotels ')\n",
        "print('-'*50)\n",
        "print(dataset.Canceled.value_counts(normalize=True))"
      ],
      "metadata": {
        "id": "kqJIR1Bq-l-V"
      },
      "execution_count": null,
      "outputs": []
    },
    {
      "cell_type": "markdown",
      "source": [
        "\n",
        "23987 bookings were canceled which is around 27%"
      ],
      "metadata": {
        "id": "XPFWUdX0aZ_b"
      }
    },
    {
      "cell_type": "code",
      "source": [
        "dataset.Country.value_counts(normalize=True)"
      ],
      "metadata": {
        "id": "G8i6O6RHAzKv"
      },
      "execution_count": null,
      "outputs": []
    },
    {
      "cell_type": "markdown",
      "source": [
        "Around 31% of all bookings were booked from Portugal followed by Great Britain(12%) & France(10%).\n"
      ],
      "metadata": {
        "id": "q3Jj_wkWarn2"
      }
    },
    {
      "cell_type": "code",
      "source": [
        "dataset.ArrivingMonth.value_counts(normalize=True)"
      ],
      "metadata": {
        "id": "l6iCv5g_A6Q5"
      },
      "execution_count": null,
      "outputs": []
    },
    {
      "cell_type": "markdown",
      "source": [
        "August is the most occupied (busiest) month with 12.91% bookings and January is the most unoccupied month with 5.33% bookings."
      ],
      "metadata": {
        "id": "2ialqZjBBTgq"
      }
    },
    {
      "cell_type": "code",
      "source": [
        "dataset.Segment.value_counts(normalize=True)"
      ],
      "metadata": {
        "id": "89-X07ItBixi"
      },
      "execution_count": null,
      "outputs": []
    },
    {
      "cell_type": "markdown",
      "source": [
        "Around 59% of bookings are made via Online Travel Agents, almost 15% of bookings are made via Offline Travel Agents and less than 13% are Direct bookings without any other agents."
      ],
      "metadata": {
        "id": "xchJtpWWbLHF"
      }
    },
    {
      "cell_type": "code",
      "source": [
        "dataset.ArrivingYear.value_counts(normalize=True)"
      ],
      "metadata": {
        "id": "I5K8PBKdDdJj"
      },
      "execution_count": null,
      "outputs": []
    },
    {
      "cell_type": "markdown",
      "source": [
        "48% bookings were done in 2016, 36% in 2017 and 15% in 2015. We can see increasing tendency in bookings year wise."
      ],
      "metadata": {
        "id": "snrjoA4GbUpA"
      }
    },
    {
      "cell_type": "code",
      "source": [
        "dataset.Meal.value_counts(normalize=True)"
      ],
      "metadata": {
        "id": "kv1Ig9RZDtAP"
      },
      "execution_count": null,
      "outputs": []
    },
    {
      "cell_type": "markdown",
      "source": [
        "Out of the meals, BB (Bed & Breakfast) is the most ordered meal which is around 77.7%, followed by SC(no meal package),HB(Half Board), Undefined and FB (Full Board)."
      ],
      "metadata": {
        "id": "axjB3FpvbdoR"
      }
    },
    {
      "cell_type": "code",
      "source": [
        "dataset.CustomerType.value_counts(normalize=True)"
      ],
      "metadata": {
        "id": "ED8U2LGIEC1A"
      },
      "execution_count": null,
      "outputs": []
    },
    {
      "cell_type": "markdown",
      "source": [
        "Transient type of customers are the more around 82%"
      ],
      "metadata": {
        "id": "1RS9zMbwEJhY"
      }
    },
    {
      "cell_type": "code",
      "source": [
        "dataset.Reservation.value_counts(normalize=True)"
      ],
      "metadata": {
        "id": "uZwM0TpNENE9"
      },
      "execution_count": null,
      "outputs": []
    },
    {
      "cell_type": "markdown",
      "source": [
        "We can see 72% visitors checked out and 26% bookings were canceled"
      ],
      "metadata": {
        "id": "JaTB4IyvESyd"
      }
    },
    {
      "cell_type": "markdown",
      "source": [
        "## ***6. Data Vizualization, Storytelling & Experimenting with charts : Understand the relationships between variables***"
      ],
      "metadata": {
        "id": "GF8Ens_Soomf"
      }
    },
    {
      "cell_type": "markdown",
      "source": [
        "#### Chart - 1 - Pie Chart [Percentage ratio between cancelled and confirmed bookings?][Univariate Analysis]"
      ],
      "metadata": {
        "id": "0wOQAZs5pc--"
      }
    },
    {
      "cell_type": "code",
      "source": [
        "# Chart - 1 visualization code\n",
        "cols = ['gold', 'lightcoral']\n",
        "dataset['Canceled'].value_counts().plot.pie(autopct='%1.1f%%',shadow=True, colors=cols)"
      ],
      "metadata": {
        "id": "7v_ESjsspbW7"
      },
      "execution_count": null,
      "outputs": []
    },
    {
      "cell_type": "markdown",
      "source": [
        "##### 1. Why did you pick the specific chart?"
      ],
      "metadata": {
        "id": "K5QZ13OEpz2H"
      }
    },
    {
      "cell_type": "markdown",
      "source": [
        "A pie chart expresses a part-to-whole relationship in your data. It's easy to explain the percentage comparison through area covered in a circle with different colors. Where differenet percentage comparison comes into action pie chart is used frequently. So, I used Pie chart and which helped me to get the percentage comparision of the dependant variable."
      ],
      "metadata": {
        "id": "XESiWehPqBRc"
      }
    },
    {
      "cell_type": "markdown",
      "source": [
        "##### 2. What is/are the insight(s) found from the chart?"
      ],
      "metadata": {
        "id": "lQ7QKXXCp7Bj"
      }
    },
    {
      "cell_type": "markdown",
      "source": [
        "Confirmed bookings are slightly more than the cancelled bookings."
      ],
      "metadata": {
        "id": "C_j1G7yiqdRP"
      }
    },
    {
      "cell_type": "markdown",
      "source": [
        "##### 3. Will the gained insights help creating a positive business impact?\n",
        "Are there any insights that lead to negative growth? Justify with specific reason."
      ],
      "metadata": {
        "id": "448CDAPjqfQr"
      }
    },
    {
      "cell_type": "markdown",
      "source": [
        "In above pie chart we discovering that confirm booking are 72.4% due to different- different offers given by resorts and hotels.... Only 27.6% cancelled booking because some coustomer are not happy with offers of hotels and resorts... That leads to slightly negative growth"
      ],
      "metadata": {
        "id": "3cspy4FjqxJW"
      }
    },
    {
      "cell_type": "markdown",
      "source": [
        "#### Chart - 2 - Boxplot [which month results in high revenue?][Multivariate Analysis]"
      ],
      "metadata": {
        "id": "KSlN3yHqYklG"
      }
    },
    {
      "cell_type": "code",
      "source": [
        "# Chart - 2 visualization code\n",
        "reindex = ['January', 'February','March','April','May','June','July','August','September','October','November','December']\n",
        "dataset['ArrivingMonth'] = pd.Categorical(dataset['ArrivingMonth'],categories=reindex,ordered=True)\n",
        "plt.figure(figsize = (12,15))\n",
        "sns.boxplot(x = dataset['ArrivingMonth'],y = dataset['ADR'])\n",
        "plt.show()"
      ],
      "metadata": {
        "id": "R4YgtaqtYklH"
      },
      "execution_count": null,
      "outputs": []
    },
    {
      "cell_type": "markdown",
      "source": [
        "##### 1. Why did you pick the specific chart?"
      ],
      "metadata": {
        "id": "t6dVpIINYklI"
      }
    },
    {
      "cell_type": "markdown",
      "source": [
        "a box plot to visualize the distribution of the average daily rate (adr) across different months of the year."
      ],
      "metadata": {
        "id": "5aaW0BYyYklI"
      }
    },
    {
      "cell_type": "markdown",
      "source": [
        "##### 2. What is/are the insight(s) found from the chart?"
      ],
      "metadata": {
        "id": "ijmpgYnKYklI"
      }
    },
    {
      "cell_type": "markdown",
      "source": [
        "Avg adr rises from beginning of year upto middle of year and reaches peak at August and then lowers to the end of year. But hotels do make some good deals with high adr at end of year also."
      ],
      "metadata": {
        "id": "PSx9atu2YklI"
      }
    },
    {
      "cell_type": "markdown",
      "source": [
        "##### 3. Will the gained insights help creating a positive business impact?\n",
        "Are there any insights that lead to negative growth? Justify with specific reason."
      ],
      "metadata": {
        "id": "-JiQyfWJYklI"
      }
    },
    {
      "cell_type": "markdown",
      "source": [
        "in above box plot graph we observing that revenue of hotels is increasing from month January to August.. this shows positive growth in revenue.. From month August to November the revenues of hotels dips down that shows negative growth of revenue of hotels... And again in month of December revenue get increases.."
      ],
      "metadata": {
        "id": "BcBbebzrYklV"
      }
    },
    {
      "cell_type": "markdown",
      "source": [
        "#### Chart - 3 Countplot [To know the most preferred type of meal by customers][Univariate Analysis]"
      ],
      "metadata": {
        "id": "EM7whBJCYoAo"
      }
    },
    {
      "cell_type": "code",
      "source": [
        "# Chart - 3 visualization code\n",
        "plt.figure( figsize = (6, 7))\n",
        "sns.countplot(x = dataset['Meal'])\n",
        "plt.show()"
      ],
      "metadata": {
        "id": "t6GMdE67YoAp"
      },
      "execution_count": null,
      "outputs": []
    },
    {
      "cell_type": "markdown",
      "source": [
        "##### 1. Why did you pick the specific chart?"
      ],
      "metadata": {
        "id": "fge-S5ZAYoAp"
      }
    },
    {
      "cell_type": "markdown",
      "source": [
        " count plot is used to display the count of categorical observations in each bin in the dataset. A count plot resembles a histogram over a categorical variable as opposed to a quantitative one."
      ],
      "metadata": {
        "id": "5dBItgRVYoAp"
      }
    },
    {
      "cell_type": "markdown",
      "source": [
        "##### 2. What is/are the insight(s) found from the chart?"
      ],
      "metadata": {
        "id": "85gYPyotYoAp"
      }
    },
    {
      "cell_type": "markdown",
      "source": [
        "Customers Preffered BB which means Bed and Breakfast so that we can add new dishes to the menu and see which dish is more preffered in the breakfast.We can keep Tea,Coffee,Juice this type of Drinks in the menu beacuse Usually Most of them consume this in the Morning."
      ],
      "metadata": {
        "id": "4jstXR6OYoAp"
      }
    },
    {
      "cell_type": "markdown",
      "source": [
        "##### 3. Will the gained insights help creating a positive business impact?\n",
        "Are there any insights that lead to negative growth? Justify with specific reason."
      ],
      "metadata": {
        "id": "RoGjAbkUYoAp"
      }
    },
    {
      "cell_type": "markdown",
      "source": [
        "As most customers prefer Bread & Breakfast (BB), the hotel management can introduce offers on Full Board (FB) meal, which can increase revenue as well."
      ],
      "metadata": {
        "id": "zfJ8IqMcYoAp"
      }
    },
    {
      "cell_type": "markdown",
      "source": [
        "#### Chart - 4 Barplot [Which hotel has higher lead time?][Bivariate Analysis]"
      ],
      "metadata": {
        "id": "4Of9eVA-YrdM"
      }
    },
    {
      "cell_type": "code",
      "source": [
        "# Chart - 4 visualization code\n",
        "#lead time of both the hotel\n",
        "plt.figure(figsize=(20,8))\n",
        "sns.barplot(x = \"Hotel\", y = \"LeadTime\", data = dataset, hue = \"Hotel\");\n",
        "plt.title('Lead time of the different Market segment')\n",
        "plt.tight_layout();"
      ],
      "metadata": {
        "id": "irlUoxc8YrdO"
      },
      "execution_count": null,
      "outputs": []
    },
    {
      "cell_type": "markdown",
      "source": [
        "##### 1. Why did you pick the specific chart?"
      ],
      "metadata": {
        "id": "iky9q4vBYrdO"
      }
    },
    {
      "cell_type": "markdown",
      "source": [
        "We pick the specific chart for the comparison of lead time between resorts and city hotels..."
      ],
      "metadata": {
        "id": "aJRCwT6DYrdO"
      }
    },
    {
      "cell_type": "markdown",
      "source": [
        "##### 2. What is/are the insight(s) found from the chart?"
      ],
      "metadata": {
        "id": "F6T5p64dYrdO"
      }
    },
    {
      "cell_type": "markdown",
      "source": [
        "Resort hotel has higher lead time over the city hotel"
      ],
      "metadata": {
        "id": "Xx8WAJvtYrdO"
      }
    },
    {
      "cell_type": "markdown",
      "source": [
        "##### 3. Will the gained insights help creating a positive business impact?\n",
        "Are there any insights that lead to negative growth? Justify with specific reason."
      ],
      "metadata": {
        "id": "y-Ehk30pYrdP"
      }
    },
    {
      "cell_type": "markdown",
      "source": [
        "Above graph we noticing that city hotels have higher lead time because of their different different offers and their lower prices by which business of city hotels is growing in positive direction... For resorts their lead time is less than city hotels because of their higher prices and they are not for medium budget customers so their business is going towards negative direction."
      ],
      "metadata": {
        "id": "jLNxxz7MYrdP"
      }
    },
    {
      "cell_type": "markdown",
      "source": [
        "#### Chart - 5 Lineplot [Looking into prices per month per hotel][Multivariate Analysis]"
      ],
      "metadata": {
        "id": "OH-pJp9IphqM"
      }
    },
    {
      "cell_type": "code",
      "source": [
        "# Chart - 5 visualization code\n",
        "#Resizing plot\n",
        "plt.figure(figsize=(12,5))\n",
        "\n",
        "# Calculating average daily rate per person\n",
        "dataset['adr_pp'] = dataset['ADR'] / (dataset['Adults'] + dataset['Children'])\n",
        "actual_guests = dataset.loc[dataset[\"Canceled\"] == '0']\n",
        "actual_guests['price'] = actual_guests['ADR'] * (actual_guests['WeekendStay'] + actual_guests['WeekStay'])\n",
        "sns.lineplot(data = actual_guests, x = 'ArrivingMonth', y = 'price', hue = 'Hotel')\n",
        "plt.show()"
      ],
      "metadata": {
        "id": "kuRf4wtuphqN"
      },
      "execution_count": null,
      "outputs": []
    },
    {
      "cell_type": "markdown",
      "source": [
        "##### 1. Why did you pick the specific chart?"
      ],
      "metadata": {
        "id": "bbFf2-_FphqN"
      }
    },
    {
      "cell_type": "markdown",
      "source": [
        "a line plot or line graph, is a type of chart that displays data points connected by straight lines. It is commonly used to visualize the trend or change in data over a continuous period or interval."
      ],
      "metadata": {
        "id": "loh7H2nzphqN"
      }
    },
    {
      "cell_type": "markdown",
      "source": [
        "##### 2. What is/are the insight(s) found from the chart?"
      ],
      "metadata": {
        "id": "_ouA3fa0phqN"
      }
    },
    {
      "cell_type": "markdown",
      "source": [
        "Prices of resort hotel are much higher and Prices of city hotel do not fluctuate that much."
      ],
      "metadata": {
        "id": "VECbqPI7phqN"
      }
    },
    {
      "cell_type": "markdown",
      "source": [
        "#### Chart - 6 Heatmap [Let’s plot the heatmap and see the correlation][Multivariate Analysis]"
      ],
      "metadata": {
        "id": "bamQiAODYuh1"
      }
    },
    {
      "cell_type": "code",
      "source": [
        "# Correlation Heatmap visualization code\n",
        "#Lets see the correlation\n",
        "plt.figure(figsize=(12,8))\n",
        "sns.heatmap(dataset.corr(),annot=True,cmap='RdYlGn')"
      ],
      "metadata": {
        "id": "TIJwrbroYuh3"
      },
      "execution_count": null,
      "outputs": []
    },
    {
      "cell_type": "markdown",
      "source": [
        "##### 1. Why did you pick the specific chart?"
      ],
      "metadata": {
        "id": "QHF8YVU7Yuh3"
      }
    },
    {
      "cell_type": "markdown",
      "source": [
        "A correlation matrix is a table showing correlation coefficients between variables. Each cell in the table shows the correlation between two variables. A correlation matrix is used to summarize data, as an input into a more advanced analysis, and as a diagnostic for advanced analyses. The range of correlation is [-1,1].\n",
        "\n",
        "Thus to know the correlation between all the variables along with the correlation coeficients, i used correlation heatmap."
      ],
      "metadata": {
        "id": "dcxuIMRPYuh3"
      }
    },
    {
      "cell_type": "markdown",
      "source": [
        "##### 2. What is/are the insight(s) found from the chart?"
      ],
      "metadata": {
        "id": "GwzvFGzlYuh3"
      }
    },
    {
      "cell_type": "markdown",
      "source": [
        "The heatmap is a graphical representation of the correlation matrix and provides a quick way to visualize the linear relationship between the variables in the data."
      ],
      "metadata": {
        "id": "uyqkiB8YYuh3"
      }
    },
    {
      "cell_type": "markdown",
      "source": [
        "#### Chart - 7 Choropleth map [Most visited country][Multivariate Analysis]"
      ],
      "metadata": {
        "id": "PIIx-8_IphqN"
      }
    },
    {
      "cell_type": "code",
      "source": [
        "# Chart - 7 visualization code\n",
        "import plotly.express as px\n",
        "import plotly.graph_objects as go\n",
        "import plotly.figure_factory as ff\n",
        "from plotly.colors import n_colors\n",
        "from plotly.subplots import make_subplots\n",
        "# Minmax scaler\n",
        "from sklearn.preprocessing import MinMaxScaler\n",
        "\n",
        "country_visitors = dataset[dataset['Canceled'] == '0'].groupby(['Country']).size().reset_index(name = 'count')\n",
        "\n",
        "\n",
        "import plotly.express as px\n",
        "\n",
        "px.choropleth(country_visitors,\n",
        "                    locations = \"Country\",\n",
        "                    color= \"count\" ,\n",
        "                    hover_name= \"Country\", # column to add to hover information\n",
        "                    color_continuous_scale=\"Viridis\",\n",
        "                    title=\"Home country of visitors\")"
      ],
      "metadata": {
        "id": "lqAIGUfyphqO"
      },
      "execution_count": null,
      "outputs": []
    },
    {
      "cell_type": "markdown",
      "source": [
        "##### 1. Why did you pick the specific chart?"
      ],
      "metadata": {
        "id": "t27r6nlMphqO"
      }
    },
    {
      "cell_type": "markdown",
      "source": [
        "A choropleth map is a type of statistical thematic map that uses pseudocolor, meaning color corresponding with an aggregate summary of a geographic characteristic within spatial enumeration units, such as population density or per-capita income.\n",
        "Choropleth maps provide an easy way to visualize how a variable varies across a geographic area or show the level of variability within a region. A heat map or is arithmic map is similar but uses regions drawn according to the pattern of the variable, rather than the a priori geographic areas of choropleth maps.\n",
        "So, to check from which country the visitors are comming we use that graph."
      ],
      "metadata": {
        "id": "iv6ro40sphqO"
      }
    },
    {
      "cell_type": "markdown",
      "source": [
        "##### 2. What is/are the insight(s) found from the chart?"
      ],
      "metadata": {
        "id": "r2jJGEOYphqO"
      }
    },
    {
      "cell_type": "markdown",
      "source": [
        "More visitors are from western europe, namely France,UK and Portugal being the highest."
      ],
      "metadata": {
        "id": "Po6ZPi4hphqO"
      }
    },
    {
      "cell_type": "markdown",
      "source": [
        "#### Chart - 8 Countplot [visualization of most preferred room type][Univariate Analysis]"
      ],
      "metadata": {
        "id": "BZR9WyysphqO"
      }
    },
    {
      "cell_type": "code",
      "source": [
        "# Chart - 8 visualization code\n",
        "plt.figure(figsize=(14,7))\n",
        "sns.countplot(x=dataset['AssignRoomType'],order=dataset['AssignRoomType'].value_counts().index)\n",
        "plt.title(\"Most preferred Room type\", fontsize = 20)\n",
        "plt.xlabel('Type of the Room', fontsize = 15)\n",
        "plt.ylabel('Room type count', fontsize = 15)"
      ],
      "metadata": {
        "id": "TdPTWpAVphqO"
      },
      "execution_count": null,
      "outputs": []
    },
    {
      "cell_type": "markdown",
      "source": [
        "##### 1. Why did you pick the specific chart?"
      ],
      "metadata": {
        "id": "jj7wYXLtphqO"
      }
    },
    {
      "cell_type": "markdown",
      "source": [
        "We have choose countplot to visualize most prefferd roomtype because countplot display the count of each observation for each category and here we have to represent room type vs room type count."
      ],
      "metadata": {
        "id": "Ob8u6rCTphqO"
      }
    },
    {
      "cell_type": "markdown",
      "source": [
        "##### 2. What is/are the insight(s) found from the chart?"
      ],
      "metadata": {
        "id": "eZrbJ2SmphqO"
      }
    },
    {
      "cell_type": "markdown",
      "source": [
        "The insight found from the chart is A type rooms are most prefered rooms and the count is 46283 and after that D type rooms are prefered by the guest and count is 22419."
      ],
      "metadata": {
        "id": "mZtgC_hjphqO"
      }
    },
    {
      "cell_type": "markdown",
      "source": [
        "##### 3. Will the gained insights help creating a positive business impact?\n",
        "Are there any insights that lead to negative growth? Justify with specific reason."
      ],
      "metadata": {
        "id": "rFu4xreNphqO"
      }
    },
    {
      "cell_type": "markdown",
      "source": [
        "Hotels can provide those facilities in other room types which provided in room type A"
      ],
      "metadata": {
        "id": "ey_0qi68phqO"
      }
    },
    {
      "cell_type": "markdown",
      "source": [
        "#### Chart - 9 - Countplot[year wise booking using countplot chart][Bivariate Analysis]"
      ],
      "metadata": {
        "id": "YJ55k-q6phqO"
      }
    },
    {
      "cell_type": "code",
      "source": [
        "# Chart - 9 visualization code\n",
        "plt.figure(figsize=(14,7))\n",
        "sns.countplot(x=dataset['ArrivingYear'],hue=dataset['Hotel'])\n",
        "plt.title('Year wise Bookings', fontsize = 20)\n",
        "plt.xlabel('Arrival_date_year', fontsize = 15)\n",
        "plt.ylabel('Count of bookings', fontsize = 15)"
      ],
      "metadata": {
        "id": "B2aS4O1ophqO"
      },
      "execution_count": null,
      "outputs": []
    },
    {
      "cell_type": "markdown",
      "source": [
        "##### 1. What is/are the insight(s) found from the chart?"
      ],
      "metadata": {
        "id": "OVtJsKN_phqQ"
      }
    },
    {
      "cell_type": "markdown",
      "source": [
        "2016 had highest bookings and 2015 had lowest bookings"
      ],
      "metadata": {
        "id": "ngGi97qjphqQ"
      }
    },
    {
      "cell_type": "markdown",
      "source": [
        "#### Chart - 10 - Countplot [Type of hotel most prefered][Bivariate Analysis]"
      ],
      "metadata": {
        "id": "w6VC0S7Y1rqB"
      }
    },
    {
      "cell_type": "code",
      "source": [
        "Hotel_typ =dataset['Hotel'].value_counts()\n",
        "Hotel_typ"
      ],
      "metadata": {
        "id": "WAuv-dW52Gu1"
      },
      "execution_count": null,
      "outputs": []
    },
    {
      "cell_type": "code",
      "source": [
        "plt.subplot(2,2,1 )\n",
        "Hotel_typ.plot.pie(x='City Hotel', y ='Resort Hotel',autopct='%1.0f%%',textprops={'weight': 'bold'},figsize =(12,12),explode =[0.05]*2)\n",
        "plt.title('Hotel type',fontweight=\"bold\", size=20)"
      ],
      "metadata": {
        "id": "ZuKdcqLE1mmX"
      },
      "execution_count": null,
      "outputs": []
    },
    {
      "cell_type": "markdown",
      "source": [
        "##### 1. What is/are the insight(s) found from the chart?"
      ],
      "metadata": {
        "id": "_yTGv6bpeV9P"
      }
    },
    {
      "cell_type": "markdown",
      "source": [
        "city hotels are more preferred as compare to resort hotel"
      ],
      "metadata": {
        "id": "wEn_lOrMelsM"
      }
    },
    {
      "cell_type": "markdown",
      "source": [
        "## **5. Solution to Business Objective**"
      ],
      "metadata": {
        "id": "JcMwzZxoAimU"
      }
    },
    {
      "cell_type": "markdown",
      "source": [
        "#### What do you suggest the client to achieve Business Objective ?\n",
        "Explain Briefly."
      ],
      "metadata": {
        "id": "8G2x9gOozGDZ"
      }
    },
    {
      "cell_type": "markdown",
      "source": [
        "From the analysis, several key factors can be identified to achieve the business objectives of increasing hotel revenue, generating customer satisfaction, and enhancing facilities. These factors include:\n",
        "\n",
        "* Most Preferred Hotel: By identifying the most preferred hotel, the client can focus on promoting and enhancing the services and amenities offered in that specific hotel to attract more guests.\n",
        "Percentage of Repeated Guests: Understanding the percentage of repeated guests helps the client prioritize strategies to improve customer loyalty and retention, as repeat guests often contribute significantly to revenue generation.\n",
        "* Preferred Food Choices: Knowing the food preferences of guests allows the client to offer the most popular food options, ensuring customer satisfaction and enhancing the dining experience.\n",
        "* Preferred Months: Identifying the preferred months for bookings helps the client allocate resources and staff accordingly, ensuring a seamless and enjoyable stay for guests during peak periods.\n",
        "* ADR Analysis: Analyzing the Average Daily Rate (ADR) across different hotel types helps the client identify which hotels generate higher income, allowing them to optimize pricing strategies and maximize revenue.\n",
        "* Busiest Hotel: By determining the busiest hotel, the client can focus on improving facilities and services in less busy hotels to attract more guests and increase occupancy rates.\n",
        "* ADR and Total Number of People: Analyzing the relationship between ADR and the total number of people provides insights into revenue generation potential based on group bookings or larger party sizes, allowing the client to cater to the needs of different customer segments.\n",
        "\n",
        "\n",
        "**Strategies to Counter High Cancellations at the Hotel**\n",
        "\n",
        "* Set Non-refundable Rates, Collect deposits, and implement more rigid cancellation policies.\n",
        "* Encourage Direct bookings by offering special discounts\n",
        "* Monitor where the cancellations are coming from such as Market Segment, distribution channels, etc.\n"
      ],
      "metadata": {
        "id": "pASKb0qOza21"
      }
    },
    {
      "cell_type": "markdown",
      "source": [
        "# **Conclusion**"
      ],
      "metadata": {
        "id": "gCX9965dhzqZ"
      }
    },
    {
      "cell_type": "markdown",
      "source": [
        "* Majority of the hotels booked are city hotel. Definitely need to spend the most targeting fund on those hotel.\n",
        "* We also realise that the high rate of cancellations can be due high no deposit policies.\n",
        "* We should also target months between May to Aug. Those are peak months due to the summer period.\n",
        "* Majority of the guests are from Western Europe. We should spend a significant amount of our budget on those area.\n",
        "* Given that we do not have repeated guests, we should target our advertisement on guests to increase returning guests.\n",
        "*   Bed and Breakfast (BB) is the most preferred meal package, indicating the potential to introduce offers and promotions for other meal packages like Full Board (FB) to increase revenue.\n",
        "* The distribution channel TA/TO (Travel Agents/Tour Operators) accounts for 80% of bookings, highlighting the importance of collaborating with these channels for marketing and promotions.\n",
        "\n",
        "\n",
        "\n",
        "And many more conclusions."
      ],
      "metadata": {
        "id": "Fjb1IsQkh3yE"
      }
    }
  ]
}